{
  "nbformat": 4,
  "nbformat_minor": 0,
  "metadata": {
    "colab": {
      "provenance": [],
      "authorship_tag": "ABX9TyNpDayhx0BPJf5gHBa9tA/u",
      "include_colab_link": true
    },
    "kernelspec": {
      "name": "python3",
      "display_name": "Python 3"
    },
    "language_info": {
      "name": "python"
    }
  },
  "cells": [
    {
      "cell_type": "markdown",
      "metadata": {
        "id": "view-in-github",
        "colab_type": "text"
      },
      "source": [
        "<a href=\"https://colab.research.google.com/github/KaikyDegasperi/Tensores/blob/main/tensores.ipynb\" target=\"_parent\"><img src=\"https://colab.research.google.com/assets/colab-badge.svg\" alt=\"Open In Colab\"/></a>"
      ]
    },
    {
      "cell_type": "markdown",
      "source": [
        "tensores são elementos de k^nt dimensões\n",
        "\n"
      ],
      "metadata": {
        "id": "JNx3g4X2Wrlo"
      }
    },
    {
      "cell_type": "code",
      "execution_count": null,
      "metadata": {
        "id": "mQhRwg7kWKEC"
      },
      "outputs": [],
      "source": [
        "import torch"
      ]
    },
    {
      "cell_type": "markdown",
      "source": [
        "Conseguimos usar escalares como tensores unitários\n"
      ],
      "metadata": {
        "id": "BfJYuHx_W3ZY"
      }
    },
    {
      "cell_type": "code",
      "source": [
        "x = torch.tensor(3.0)\n",
        "y = torch.tensor(2.0)"
      ],
      "metadata": {
        "id": "hIe5xCRsW-Ng"
      },
      "execution_count": 3,
      "outputs": []
    },
    {
      "cell_type": "markdown",
      "source": [
        "Vetores podem ser considerados um array com escalares\n",
        "<br>\n",
        "\\[\n",
        "\\begin{bmatrix}\n",
        "x_1 \\\\\n",
        "x_2 \\\\\n",
        "\\vdots \\\\\n",
        "x_n\n",
        "\\end{bmatrix}\n",
        "\\]\n"
      ],
      "metadata": {
        "id": "juZtCG3yZgfv"
      }
    },
    {
      "cell_type": "code",
      "source": [
        "v = torch.tensor([1,2,3])"
      ],
      "metadata": {
        "id": "pMeWBx1PaHuU"
      },
      "execution_count": 4,
      "outputs": []
    },
    {
      "cell_type": "markdown",
      "source": [
        "Podemos acessar por indice =, lembrando que no pyhton o indice começa do 0\n",
        "\n"
      ],
      "metadata": {
        "id": "8_tk8T99amEz"
      }
    },
    {
      "cell_type": "code",
      "source": [
        "v[2]\n",
        "#podemos acessar o tamanho do tensor também\n",
        "print('O tamanho do tensor é', len(v))\n",
        "#podemos acessar a dimensão por meio de uma tupla, que indica o comprimento do tensor em cada eixo\n",
        "print('O comprimento do tensor é',torch.Size(v))"
      ],
      "metadata": {
        "colab": {
          "base_uri": "https://localhost:8080/"
        },
        "id": "cTfyBoZsarH2",
        "outputId": "993813ea-f482-4d3b-f9e6-b64e0a856056"
      },
      "execution_count": 10,
      "outputs": [
        {
          "output_type": "stream",
          "name": "stdout",
          "text": [
            "O tamanho do tensor é 3\n",
            "O comprimento do tensor é torch.Size([1, 2, 3])\n"
          ]
        }
      ]
    },
    {
      "cell_type": "markdown",
      "source": [
        "Usaremos dimensões para número de elementos e order para número de eixos\n"
      ],
      "metadata": {
        "id": "G4L8yPhIb5uF"
      }
    }
  ]
}