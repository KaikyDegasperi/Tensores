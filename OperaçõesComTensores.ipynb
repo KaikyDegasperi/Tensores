{
  "nbformat": 4,
  "nbformat_minor": 0,
  "metadata": {
    "colab": {
      "provenance": [],
      "authorship_tag": "ABX9TyO+rq1X6aAMXZqnOgv9S5Pg",
      "include_colab_link": true
    },
    "kernelspec": {
      "name": "python3",
      "display_name": "Python 3"
    },
    "language_info": {
      "name": "python"
    }
  },
  "cells": [
    {
      "cell_type": "markdown",
      "metadata": {
        "id": "view-in-github",
        "colab_type": "text"
      },
      "source": [
        "<a href=\"https://colab.research.google.com/github/KaikyDegasperi/Tensores/blob/main/Opera%C3%A7%C3%B5esComTensores.ipynb\" target=\"_parent\"><img src=\"https://colab.research.google.com/assets/colab-badge.svg\" alt=\"Open In Colab\"/></a>"
      ]
    },
    {
      "cell_type": "markdown",
      "source": [
        "## Operações\n",
        "\n",
        "Agora que sabemos como construir tensores e como ler e escrever em seus elementos, podemos começar a manipulá-los com várias operações matemáticas. Entre as mais úteis estão as operações elementares. Estas aplicam uma operação escalar padrão a cada elemento de um tensor. Para funções que recebem dois tensores como entradas, as operações elementares aplicam algum operador binário padrão a cada par de elementos correspondentes. Podemos criar uma função elementar a partir de qualquer função que mapeie de um escalar para um escalar.\n",
        "\n",
        "Na notação matemática, denotamos tais operadores escalares unários (que recebem uma entrada) pela assinatura $ f : \\mathbb{R} \\rightarrow \\mathbb{R}$ . Isso significa apenas que a função mapeia de qualquer número real para algum outro número real. A maioria dos operadores padrão, incluindo operadores unários como $e^x $, podem ser aplicados elementarmente.\n"
      ],
      "metadata": {
        "id": "8eHQxM_bl1-F"
      }
    },
    {
      "cell_type": "code",
      "execution_count": 5,
      "metadata": {
        "colab": {
          "base_uri": "https://localhost:8080/"
        },
        "id": "VcHReb9Ilrdm",
        "outputId": "01157ce3-694f-452c-e802-cd9fbf8e43db"
      },
      "outputs": [
        {
          "output_type": "execute_result",
          "data": {
            "text/plain": [
              "(tensor([ 3.,  4.,  6., 10.]),\n",
              " tensor([-1.,  0.,  2.,  6.]),\n",
              " tensor([ 2.,  4.,  8., 16.]),\n",
              " tensor([0.5000, 1.0000, 2.0000, 4.0000]),\n",
              " tensor([ 1.,  4., 16., 64.]))"
            ]
          },
          "metadata": {},
          "execution_count": 5
        }
      ],
      "source": [
        "import torch\n",
        "\n",
        "x = torch.tensor([1.0, 2, 4, 8])\n",
        "y = torch.tensor([2, 2, 2, 2])\n",
        "x + y, x - y, x * y, x / y, x ** y"
      ]
    },
    {
      "cell_type": "markdown",
      "source": [
        "Além das operações elementares, também podemos realizar operações algébricas lineares, como produtos internos e multiplicações de matrizes.\n",
        "\n",
        "Também podemos concatenar vários tensores, empilhando-os um após o outro para formar um tensor maior. Apenas precisamos fornecer uma lista de tensores e informar ao sistema ao longo de qual eixo concatenar. O exemplo abaixo mostra o que acontece quando concatenamos duas matrizes ao longo das linhas (eixo 0) em vez de colunas (eixo 1). Podemos ver que o comprimento do eixo-0 da primeira saída (6) é a soma dos comprimentos do eixo-0 dos dois tensores de entrada (3 + 3); enquanto o comprimento do eixo-1 da segunda saída (8) é a soma dos comprimentos do eixo-1 dos dois tensores de entrada (4 + 4).\n"
      ],
      "metadata": {
        "id": "6itFw1CFoPYL"
      }
    },
    {
      "cell_type": "code",
      "source": [
        "X = torch.arange(12, dtype=torch.float32).reshape((3,4))\n",
        "Y = torch.tensor([[2.0, 1, 4, 3], [1, 2, 3, 4], [4, 3, 2, 1]])\n",
        "torch.cat((X, Y), dim=0), torch.cat((X, Y), dim=1)"
      ],
      "metadata": {
        "colab": {
          "base_uri": "https://localhost:8080/"
        },
        "id": "pN2IAz80oZbJ",
        "outputId": "f51fafc1-85b5-46e8-c9da-1cc03cbf6cc3"
      },
      "execution_count": 6,
      "outputs": [
        {
          "output_type": "execute_result",
          "data": {
            "text/plain": [
              "(tensor([[ 0.,  1.,  2.,  3.],\n",
              "         [ 4.,  5.,  6.,  7.],\n",
              "         [ 8.,  9., 10., 11.],\n",
              "         [ 2.,  1.,  4.,  3.],\n",
              "         [ 1.,  2.,  3.,  4.],\n",
              "         [ 4.,  3.,  2.,  1.]]),\n",
              " tensor([[ 0.,  1.,  2.,  3.,  2.,  1.,  4.,  3.],\n",
              "         [ 4.,  5.,  6.,  7.,  1.,  2.,  3.,  4.],\n",
              "         [ 8.,  9., 10., 11.,  4.,  3.,  2.,  1.]]))"
            ]
          },
          "metadata": {},
          "execution_count": 6
        }
      ]
    },
    {
      "cell_type": "markdown",
      "source": [
        " Podemos contruir operações lógicas declarações lógicas. Tome X == Y como exemplo. Para cada posição i, j, se X[i, j] e Y[i, j] forem iguais, então a entrada correspondente no resultado recebe o valor 1, caso contrário, recebe o valor 0.\n",
        "\n"
      ],
      "metadata": {
        "id": "2whZ5qzcop4a"
      }
    },
    {
      "cell_type": "code",
      "source": [
        "X == Y"
      ],
      "metadata": {
        "colab": {
          "base_uri": "https://localhost:8080/"
        },
        "id": "9KCwY2j_orwC",
        "outputId": "850b4b0f-5499-42af-a3ac-4b3dacbe8294"
      },
      "execution_count": 7,
      "outputs": [
        {
          "output_type": "execute_result",
          "data": {
            "text/plain": [
              "tensor([[False,  True, False,  True],\n",
              "        [False, False, False, False],\n",
              "        [False, False, False, False]])"
            ]
          },
          "metadata": {},
          "execution_count": 7
        }
      ]
    },
    {
      "cell_type": "markdown",
      "source": [
        "Somar todos os elementos no tensor resulta em um tensor com apenas um elemento.\n"
      ],
      "metadata": {
        "id": "iwF30Muwpdkq"
      }
    },
    {
      "cell_type": "code",
      "source": [
        "X.sum()"
      ],
      "metadata": {
        "colab": {
          "base_uri": "https://localhost:8080/"
        },
        "id": "8l0ZqYYspO_N",
        "outputId": "491d4760-33f4-463b-ea7f-e35a769b98f8"
      },
      "execution_count": 9,
      "outputs": [
        {
          "output_type": "execute_result",
          "data": {
            "text/plain": [
              "tensor(66.)"
            ]
          },
          "metadata": {},
          "execution_count": 9
        }
      ]
    },
    {
      "cell_type": "markdown",
      "source": [
        "##Broadcasting\n",
        "\n",
        "Até agora, você sabe como realizar operações binárias elementares em dois tensores com o mesmo formato. Sob certas condições, mesmo quando os formatos diferem, ainda podemos realizar operações binárias elementares invocando o mecanismo de broadcasting. O broadcasting funciona de acordo com o seguinte procedimento em duas etapas: (i) expandir um ou ambos os arrays copiando elementos ao longo dos eixos com comprimento 1, para que após essa transformação, os dois tensores tenham o mesmo formato; (ii) realizar uma operação elementar nos arrays resultantes.\n"
      ],
      "metadata": {
        "id": "eNCtiJ4_p3g6"
      }
    },
    {
      "cell_type": "code",
      "source": [
        "a = torch.arange(3).reshape((3, 1))\n",
        "b = torch.arange(2).reshape((1, 2))\n",
        "a, b"
      ],
      "metadata": {
        "colab": {
          "base_uri": "https://localhost:8080/"
        },
        "id": "8DwMATB3qE4W",
        "outputId": "ce7aa798-8085-4028-e622-87577abf38cb"
      },
      "execution_count": 10,
      "outputs": [
        {
          "output_type": "execute_result",
          "data": {
            "text/plain": [
              "(tensor([[0],\n",
              "         [1],\n",
              "         [2]]),\n",
              " tensor([[0, 1]]))"
            ]
          },
          "metadata": {},
          "execution_count": 10
        }
      ]
    },
    {
      "cell_type": "markdown",
      "source": [
        "Como as matrizes a e b são de dimensões 3 × 1 e 1 × 2, respectivamente, seus formatos não se correspondem. O broadcasting produz uma matriz maior de dimensões 3 × 2 replicando a matriz a ao longo das colunas e a matriz b ao longo das linhas antes de adicioná-las elemento a elemento.\n"
      ],
      "metadata": {
        "id": "hW2iWF_IqPXs"
      }
    },
    {
      "cell_type": "code",
      "source": [
        "a+b"
      ],
      "metadata": {
        "colab": {
          "base_uri": "https://localhost:8080/"
        },
        "id": "RrKywUQaqG1q",
        "outputId": "fcb6d290-5974-4327-e592-e287e9468e01"
      },
      "execution_count": 11,
      "outputs": [
        {
          "output_type": "execute_result",
          "data": {
            "text/plain": [
              "tensor([[0, 1],\n",
              "        [1, 2],\n",
              "        [2, 3]])"
            ]
          },
          "metadata": {},
          "execution_count": 11
        }
      ]
    }
  ]
}