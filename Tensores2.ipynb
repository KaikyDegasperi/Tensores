{
  "nbformat": 4,
  "nbformat_minor": 0,
  "metadata": {
    "colab": {
      "provenance": [],
      "authorship_tag": "ABX9TyMw7zRxNFsonQad34IfozMA",
      "include_colab_link": true
    },
    "kernelspec": {
      "name": "python3",
      "display_name": "Python 3"
    },
    "language_info": {
      "name": "python"
    }
  },
  "cells": [
    {
      "cell_type": "markdown",
      "metadata": {
        "id": "view-in-github",
        "colab_type": "text"
      },
      "source": [
        "<a href=\"https://colab.research.google.com/github/KaikyDegasperi/Tensores/blob/main/Tensores2.ipynb\" target=\"_parent\"><img src=\"https://colab.research.google.com/assets/colab-badge.svg\" alt=\"Open In Colab\"/></a>"
      ]
    },
    {
      "cell_type": "code",
      "execution_count": 2,
      "metadata": {
        "id": "VUUE6Kh9fuqZ"
      },
      "outputs": [],
      "source": [
        "import torch"
      ]
    },
    {
      "cell_type": "markdown",
      "source": [
        "Vamos gerar algusn tensores por meio de funções\n"
      ],
      "metadata": {
        "id": "Hlx44cQBhBF-"
      }
    },
    {
      "cell_type": "code",
      "source": [
        "x = torch.arange(12, dtype=torch.float32)\n",
        "#Conferindo o tamanho\n",
        "x.numel()"
      ],
      "metadata": {
        "colab": {
          "base_uri": "https://localhost:8080/"
        },
        "id": "KQGOm8iahKMb",
        "outputId": "4cd28056-73b0-4b57-9dd2-e3e9cdabb47c"
      },
      "execution_count": 12,
      "outputs": [
        {
          "output_type": "execute_result",
          "data": {
            "text/plain": [
              "12"
            ]
          },
          "metadata": {},
          "execution_count": 12
        }
      ]
    },
    {
      "cell_type": "code",
      "source": [
        "x.shape"
      ],
      "metadata": {
        "colab": {
          "base_uri": "https://localhost:8080/"
        },
        "id": "e1xHLKpYih_1",
        "outputId": "4f8800f5-3b9b-4d66-b964-44c0575e71b8"
      },
      "execution_count": 13,
      "outputs": [
        {
          "output_type": "execute_result",
          "data": {
            "text/plain": [
              "torch.Size([12])"
            ]
          },
          "metadata": {},
          "execution_count": 13
        }
      ]
    },
    {
      "cell_type": "code",
      "source": [
        "#redefinindo em um tensor\n",
        "X = x.reshape(3,4)\n",
        "X"
      ],
      "metadata": {
        "colab": {
          "base_uri": "https://localhost:8080/"
        },
        "id": "_YHjR1dKiphO",
        "outputId": "3afe7378-e2e5-4bec-e3c6-9e6db858654c"
      },
      "execution_count": 15,
      "outputs": [
        {
          "output_type": "execute_result",
          "data": {
            "text/plain": [
              "tensor([[ 0.,  1.,  2.,  3.],\n",
              "        [ 4.,  5.,  6.,  7.],\n",
              "        [ 8.,  9., 10., 11.]])"
            ]
          },
          "metadata": {},
          "execution_count": 15
        }
      ]
    },
    {
      "cell_type": "markdown",
      "source": [
        "Observe que especificar cada componente de forma para remodelar é redundante. Porque já\n",
        "sabemos o tamanho do nosso tensor, podemos calcular um componente da forma dado o resto. Por\n",
        "exemplo, dado um tensor de tamanho n e forma alvo (h, w), sabemos que h = n/w. Para\n",
        "inferir automaticamente um componente da forma, podemos colocar um -1 para o componente de forma\n",
        "que deve ser inferido automaticamente. Em nosso caso, em vez de chamar x.reshape(3, 4), nós\n",
        "poderíamos ter chamado equivalentemente x.reshape(-1, 4) ou x.reshape(3, -1).\n",
        "\n",
        "Praticantes frequentemente precisam trabalhar com tensores inicializados para conter todos os 0s ou 1s. Nós podemos\n",
        "construir um tensor com todos os elementos definidos como 0 e uma forma de (2, 3, 4) através da função zeros.\n",
        "\n",
        "\n"
      ],
      "metadata": {
        "id": "FNcAEnlsjSKT"
      }
    },
    {
      "cell_type": "code",
      "source": [
        "a = torch.zeros((1,3,4))\n",
        "\n",
        "b = torch.ones((1,3,4))\n",
        "\n",
        "print('POdemos fazer um tesor só com zeros',a)\n",
        "\n",
        "print('POdemos fazer um tesor só com uns',a)\n"
      ],
      "metadata": {
        "colab": {
          "base_uri": "https://localhost:8080/"
        },
        "id": "sWBhZsTHixKg",
        "outputId": "8d504fde-396b-46e5-d819-903396374f07"
      },
      "execution_count": 20,
      "outputs": [
        {
          "output_type": "stream",
          "name": "stdout",
          "text": [
            "POdemos fazer um tesor só com zeros tensor([[[0., 0., 0., 0.],\n",
            "         [0., 0., 0., 0.],\n",
            "         [0., 0., 0., 0.]]])\n",
            "POdemos fazer um tesor só com uns tensor([[[0., 0., 0., 0.],\n",
            "         [0., 0., 0., 0.],\n",
            "         [0., 0., 0., 0.]]])\n"
          ]
        }
      ]
    },
    {
      "cell_type": "markdown",
      "source": [
        "Frequentemente, desejamos amostrar cada elemento aleatoriamente (e independentemente) de uma distribuição de probabilidade dada. Por exemplo, os parâmetros das redes neurais são frequentemente inicializados aleatoriamente. O trecho a seguir cria um tensor com elementos retirados de uma distribuição gaussiana (normal) padrão com média 0 e desvio padrão 1.\n"
      ],
      "metadata": {
        "id": "8FEpb3CzkVap"
      }
    },
    {
      "cell_type": "code",
      "source": [
        "c = torch.randn(3,4)"
      ],
      "metadata": {
        "id": "ZvIbn6JvkHtH"
      },
      "execution_count": 21,
      "outputs": []
    },
    {
      "cell_type": "markdown",
      "source": [
        "Podemos construir tensores fornecendo os valores exatos para cada elemento, fornecendo listas Python (possivelmente aninhadas) contendo literais numéricos. Aqui, construímos uma matriz com uma lista de listas, onde a lista mais externa corresponde ao eixo 0, e a lista interna corresponde ao eixo 1.\n",
        "\n"
      ],
      "metadata": {
        "id": "9ZpkOva9kgq0"
      }
    },
    {
      "cell_type": "code",
      "source": [
        "torch.tensor([[2, 1, 4, 3], [1, 2, 3, 4], [4, 3, 2, 1]])"
      ],
      "metadata": {
        "colab": {
          "base_uri": "https://localhost:8080/"
        },
        "id": "IozFPANBkhrs",
        "outputId": "66878c57-9de9-402a-c825-971887307717"
      },
      "execution_count": 22,
      "outputs": [
        {
          "output_type": "execute_result",
          "data": {
            "text/plain": [
              "tensor([[2, 1, 4, 3],\n",
              "        [1, 2, 3, 4],\n",
              "        [4, 3, 2, 1]])"
            ]
          },
          "metadata": {},
          "execution_count": 22
        }
      ]
    }
  ]
}